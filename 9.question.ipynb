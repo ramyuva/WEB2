{
 "cells": [
  {
   "cell_type": "code",
   "execution_count": 28,
   "metadata": {},
   "outputs": [],
   "source": [
    "# Importing Libraries\n",
    "import pandas as pd\n",
    "from bs4 import BeautifulSoup\n",
    "import requests\n",
    "import selenium\n",
    "from selenium import webdriver\n",
    "import time"
   ]
  },
  {
   "cell_type": "code",
   "execution_count": 29,
   "metadata": {},
   "outputs": [],
   "source": [
    "driver=webdriver.Chrome(\"chromedriver.exe\")"
   ]
  },
  {
   "cell_type": "code",
   "execution_count": 30,
   "metadata": {},
   "outputs": [],
   "source": [
    "driver.get(\"https://www.myntra.com/shoes\")"
   ]
  },
  {
   "cell_type": "code",
   "execution_count": 31,
   "metadata": {
    "scrolled": true
   },
   "outputs": [],
   "source": [
    "search_btn=driver.find_element_by_xpath(\"//*[@id='mountRoot']/div/div[1]/main/div[3]/div[1]/section/div/div[5]/ul/li[2]/label\")\n",
    "search_btn.click()"
   ]
  },
  {
   "cell_type": "code",
   "execution_count": 32,
   "metadata": {},
   "outputs": [],
   "source": [
    "search_btn2=driver.find_element_by_xpath(\"//*[@id='mountRoot']/div/div[1]/main/div[3]/div[1]/section/div/div[6]/ul/li[1]/label\")\n",
    "search_btn2.click()"
   ]
  },
  {
   "cell_type": "code",
   "execution_count": 35,
   "metadata": {
    "scrolled": true
   },
   "outputs": [
    {
     "name": "stdout",
     "output_type": "stream",
     "text": [
      "Empty DataFrame\n",
      "Columns: [Brand, product_desc, price]\n",
      "Index: []\n"
     ]
    }
   ],
   "source": [
    "# Function Definition\n",
    "def myntra_shoe(url):\n",
    "    driver=webdriver.Chrome('chromedriver.exe')\n",
    "    start_page=0\n",
    "    end_page=2\n",
    "    urls = []\n",
    "    brand=[]\n",
    "    product_desc=[]\n",
    "    price=[]\n",
    "    discount=[]\n",
    "    #loop to fetch urls of each mobile till page 3\n",
    "    for page in range(start_page,end_page+1):\n",
    "        driver.get(url)\n",
    "        soup= BeautifulSoup(driver.page_source, 'html.parser')\n",
    "        prod_urls = soup.find_all('div', attrs ={'class':'pdp-details common-clearfix'})\n",
    "        for prod in prod_urls:\n",
    "            urls.append('https://www.myntra.com/shoes'+prod.get('href'))\n",
    "    \n",
    "    #loop to scrap required details from each mobile page\n",
    "    for url in urls:\n",
    "        driver.get(url)\n",
    "        soup = BeautifulSoup(driver.page_source, 'html.parser')\n",
    "        n = soup.find('h1',attrs={'class':'pdp-title'})\n",
    "        if n is not None:\n",
    "            brand.append(n.find('span').text.replace('\\n',''))\n",
    "        else:\n",
    "            brand.append('-')\n",
    "        desc = soup.find('h1', attrs = {'class':'pdp-name'})\n",
    "        if desc is not None:\n",
    "            product_desc.append(desc.text)\n",
    "        else:\n",
    "            product_desc.append('-')\n",
    "        p = soup.find('span', attrs = {'class':'pdp-price'})\n",
    "        if p is not None:\n",
    "            price.append(p.text)\n",
    "        else:\n",
    "            price.append('-')\n",
    "\n",
    "    shoe_df =pd.DataFrame({'Brand':brand,\n",
    "                          'product_desc':product_desc,\n",
    "                          'price':price})\n",
    "    print(shoe_df)\n",
    "    shoe_df.to_csv('myntra.csv', index = False)\n",
    "    \n",
    "    \n",
    "# Calling Function\n",
    "myntra_shoe('https://www.myntra.com/shoes?f=Color%3ABlack_36454f&plaEnabled=false&rf=Price%3A6612.0_13075.0_6612.0%20TO%2013075.0%2C6657.0_13105.0_6657.0%20TO%2013105.0')\n"
   ]
  }
 ],
 "metadata": {
  "kernelspec": {
   "display_name": "Python 3",
   "language": "python",
   "name": "python3"
  },
  "language_info": {
   "codemirror_mode": {
    "name": "ipython",
    "version": 3
   },
   "file_extension": ".py",
   "mimetype": "text/x-python",
   "name": "python",
   "nbconvert_exporter": "python",
   "pygments_lexer": "ipython3",
   "version": "3.7.6"
  }
 },
 "nbformat": 4,
 "nbformat_minor": 4
}
