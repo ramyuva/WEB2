{
 "cells": [
  {
   "cell_type": "code",
   "execution_count": 1,
   "metadata": {},
   "outputs": [],
   "source": [
    "import selenium\n",
    "import pandas as pd\n",
    "from selenium import webdriver"
   ]
  },
  {
   "cell_type": "code",
   "execution_count": 2,
   "metadata": {},
   "outputs": [],
   "source": [
    "driver=webdriver.Chrome(\"chromedriver.exe\")"
   ]
  },
  {
   "cell_type": "code",
   "execution_count": 3,
   "metadata": {},
   "outputs": [],
   "source": [
    "driver.get(\"https://www.naukri.com/\")"
   ]
  },
  {
   "cell_type": "code",
   "execution_count": 4,
   "metadata": {},
   "outputs": [],
   "source": [
    "search_job=driver.find_element_by_id('qsb-keyword-sugg')\n",
    "search_job.send_keys(\"Data Analyst\")\n",
    "search_loc=driver.find_element_by_xpath(\"//input[@id='qsb-location-sugg']\")\n",
    "search_loc.send_keys(\"Bangalore\")"
   ]
  },
  {
   "cell_type": "code",
   "execution_count": 5,
   "metadata": {},
   "outputs": [],
   "source": [
    "search_btn=driver.find_element_by_xpath(\"//div[@class='search-btn']/button\")\n",
    "search_btn.click()"
   ]
  },
  {
   "cell_type": "code",
   "execution_count": 6,
   "metadata": {},
   "outputs": [],
   "source": [
    "url=\"https://www.naukri.com/data-analyst-jobs-in-bangalore?k=data%20analyst&l=bangalore\""
   ]
  },
  {
   "cell_type": "code",
   "execution_count": 7,
   "metadata": {},
   "outputs": [],
   "source": [
    "driver.get(url)"
   ]
  },
  {
   "cell_type": "code",
   "execution_count": 8,
   "metadata": {},
   "outputs": [],
   "source": [
    "job_title=[]\n",
    "company_names=[]\n",
    "locations_list=[]\n",
    "experience_list=[]"
   ]
  },
  {
   "cell_type": "code",
   "execution_count": 9,
   "metadata": {
    "scrolled": false
   },
   "outputs": [
    {
     "data": {
      "text/plain": [
       "[<selenium.webdriver.remote.webelement.WebElement (session=\"7ef28d0e3c94c929e29becb0f5438817\", element=\"0.8606819729331268-1\")>,\n",
       " <selenium.webdriver.remote.webelement.WebElement (session=\"7ef28d0e3c94c929e29becb0f5438817\", element=\"0.8606819729331268-2\")>,\n",
       " <selenium.webdriver.remote.webelement.WebElement (session=\"7ef28d0e3c94c929e29becb0f5438817\", element=\"0.8606819729331268-3\")>,\n",
       " <selenium.webdriver.remote.webelement.WebElement (session=\"7ef28d0e3c94c929e29becb0f5438817\", element=\"0.8606819729331268-4\")>,\n",
       " <selenium.webdriver.remote.webelement.WebElement (session=\"7ef28d0e3c94c929e29becb0f5438817\", element=\"0.8606819729331268-5\")>,\n",
       " <selenium.webdriver.remote.webelement.WebElement (session=\"7ef28d0e3c94c929e29becb0f5438817\", element=\"0.8606819729331268-6\")>,\n",
       " <selenium.webdriver.remote.webelement.WebElement (session=\"7ef28d0e3c94c929e29becb0f5438817\", element=\"0.8606819729331268-7\")>,\n",
       " <selenium.webdriver.remote.webelement.WebElement (session=\"7ef28d0e3c94c929e29becb0f5438817\", element=\"0.8606819729331268-8\")>,\n",
       " <selenium.webdriver.remote.webelement.WebElement (session=\"7ef28d0e3c94c929e29becb0f5438817\", element=\"0.8606819729331268-9\")>]"
      ]
     },
     "execution_count": 9,
     "metadata": {},
     "output_type": "execute_result"
    }
   ],
   "source": [
    "titles_tag=driver.find_elements_by_xpath(\"//a[@class='title fw500 ellipsis']\")\n",
    "titles_tag[0:9]"
   ]
  },
  {
   "cell_type": "code",
   "execution_count": 10,
   "metadata": {
    "scrolled": true
   },
   "outputs": [
    {
     "data": {
      "text/plain": [
       "['MIS/ Data Analyst-(SQL,Automation,Excel/PowerBI,Dashboards) - Contract',\n",
       " 'Data Analyst - SAP',\n",
       " 'Hiring Data Analysts on Contract',\n",
       " 'Senior Data Analyst',\n",
       " 'Data Analyst',\n",
       " 'Data Analyst -Azure Data lake, Azure Data factory',\n",
       " 'Business / Data Analyst',\n",
       " 'Data Analyst - O2C - Bangalore',\n",
       " 'Intern Data Analyst']"
      ]
     },
     "execution_count": 10,
     "metadata": {},
     "output_type": "execute_result"
    }
   ],
   "source": [
    "for i in titles_tag:\n",
    "    job_title.append(i.text)\n",
    "job_title[0:9]"
   ]
  },
  {
   "cell_type": "code",
   "execution_count": 11,
   "metadata": {},
   "outputs": [
    {
     "data": {
      "text/plain": [
       "[<selenium.webdriver.remote.webelement.WebElement (session=\"7ef28d0e3c94c929e29becb0f5438817\", element=\"0.8606819729331268-21\")>,\n",
       " <selenium.webdriver.remote.webelement.WebElement (session=\"7ef28d0e3c94c929e29becb0f5438817\", element=\"0.8606819729331268-22\")>,\n",
       " <selenium.webdriver.remote.webelement.WebElement (session=\"7ef28d0e3c94c929e29becb0f5438817\", element=\"0.8606819729331268-23\")>,\n",
       " <selenium.webdriver.remote.webelement.WebElement (session=\"7ef28d0e3c94c929e29becb0f5438817\", element=\"0.8606819729331268-24\")>,\n",
       " <selenium.webdriver.remote.webelement.WebElement (session=\"7ef28d0e3c94c929e29becb0f5438817\", element=\"0.8606819729331268-25\")>,\n",
       " <selenium.webdriver.remote.webelement.WebElement (session=\"7ef28d0e3c94c929e29becb0f5438817\", element=\"0.8606819729331268-26\")>,\n",
       " <selenium.webdriver.remote.webelement.WebElement (session=\"7ef28d0e3c94c929e29becb0f5438817\", element=\"0.8606819729331268-27\")>,\n",
       " <selenium.webdriver.remote.webelement.WebElement (session=\"7ef28d0e3c94c929e29becb0f5438817\", element=\"0.8606819729331268-28\")>,\n",
       " <selenium.webdriver.remote.webelement.WebElement (session=\"7ef28d0e3c94c929e29becb0f5438817\", element=\"0.8606819729331268-29\")>]"
      ]
     },
     "execution_count": 11,
     "metadata": {},
     "output_type": "execute_result"
    }
   ],
   "source": [
    "company_tag=driver.find_elements_by_xpath(\"//a[@class='subTitle ellipsis fleft']\")\n",
    "company_tag[0:9]"
   ]
  },
  {
   "cell_type": "code",
   "execution_count": 12,
   "metadata": {},
   "outputs": [
    {
     "data": {
      "text/plain": [
       "['Flipkart Internet Private Limited',\n",
       " 'Boston Scientific Corporation',\n",
       " 'Flipkart Internet Private Limited',\n",
       " 'Schneider Electric',\n",
       " 'Shell India Markets Private Limited',\n",
       " 'Mindtree Limited',\n",
       " 'IBM India Pvt. Limited',\n",
       " 'RANDSTAD INDIA PVT LTD',\n",
       " 'Outsource Big Data']"
      ]
     },
     "execution_count": 12,
     "metadata": {},
     "output_type": "execute_result"
    }
   ],
   "source": [
    "for i in company_tag:\n",
    "    company_names.append(i.text)\n",
    "company_names[0:9]"
   ]
  },
  {
   "cell_type": "code",
   "execution_count": 13,
   "metadata": {
    "scrolled": false
   },
   "outputs": [
    {
     "data": {
      "text/plain": [
       "[<selenium.webdriver.remote.webelement.WebElement (session=\"7ef28d0e3c94c929e29becb0f5438817\", element=\"0.8606819729331268-41\")>,\n",
       " <selenium.webdriver.remote.webelement.WebElement (session=\"7ef28d0e3c94c929e29becb0f5438817\", element=\"0.8606819729331268-42\")>,\n",
       " <selenium.webdriver.remote.webelement.WebElement (session=\"7ef28d0e3c94c929e29becb0f5438817\", element=\"0.8606819729331268-43\")>,\n",
       " <selenium.webdriver.remote.webelement.WebElement (session=\"7ef28d0e3c94c929e29becb0f5438817\", element=\"0.8606819729331268-44\")>,\n",
       " <selenium.webdriver.remote.webelement.WebElement (session=\"7ef28d0e3c94c929e29becb0f5438817\", element=\"0.8606819729331268-45\")>,\n",
       " <selenium.webdriver.remote.webelement.WebElement (session=\"7ef28d0e3c94c929e29becb0f5438817\", element=\"0.8606819729331268-46\")>,\n",
       " <selenium.webdriver.remote.webelement.WebElement (session=\"7ef28d0e3c94c929e29becb0f5438817\", element=\"0.8606819729331268-47\")>,\n",
       " <selenium.webdriver.remote.webelement.WebElement (session=\"7ef28d0e3c94c929e29becb0f5438817\", element=\"0.8606819729331268-48\")>,\n",
       " <selenium.webdriver.remote.webelement.WebElement (session=\"7ef28d0e3c94c929e29becb0f5438817\", element=\"0.8606819729331268-49\")>]"
      ]
     },
     "execution_count": 13,
     "metadata": {},
     "output_type": "execute_result"
    }
   ],
   "source": [
    "loc_tag=driver.find_elements_by_xpath(\"//li[@class='fleft grey-text br2 placeHolderLi location']/span[1]\")\n",
    "loc_tag[0:9]"
   ]
  },
  {
   "cell_type": "code",
   "execution_count": 14,
   "metadata": {},
   "outputs": [
    {
     "data": {
      "text/plain": [
       "['Bengaluru',\n",
       " 'Pune, Delhi, Bengaluru, Gurgaon',\n",
       " 'Bengaluru',\n",
       " 'Bengaluru / Bangalore',\n",
       " 'Bengaluru',\n",
       " 'Chennai, Pune, Bengaluru, Hyderabad',\n",
       " 'Bengaluru',\n",
       " 'Bengaluru',\n",
       " 'Bengaluru']"
      ]
     },
     "execution_count": 14,
     "metadata": {},
     "output_type": "execute_result"
    }
   ],
   "source": [
    "for i in loc_tag:\n",
    "    locations_list.append(i.text)\n",
    "locations_list[0:9]"
   ]
  },
  {
   "cell_type": "code",
   "execution_count": 15,
   "metadata": {
    "scrolled": true
   },
   "outputs": [
    {
     "data": {
      "text/plain": [
       "[<selenium.webdriver.remote.webelement.WebElement (session=\"7ef28d0e3c94c929e29becb0f5438817\", element=\"0.8606819729331268-61\")>,\n",
       " <selenium.webdriver.remote.webelement.WebElement (session=\"7ef28d0e3c94c929e29becb0f5438817\", element=\"0.8606819729331268-62\")>,\n",
       " <selenium.webdriver.remote.webelement.WebElement (session=\"7ef28d0e3c94c929e29becb0f5438817\", element=\"0.8606819729331268-63\")>,\n",
       " <selenium.webdriver.remote.webelement.WebElement (session=\"7ef28d0e3c94c929e29becb0f5438817\", element=\"0.8606819729331268-64\")>,\n",
       " <selenium.webdriver.remote.webelement.WebElement (session=\"7ef28d0e3c94c929e29becb0f5438817\", element=\"0.8606819729331268-65\")>,\n",
       " <selenium.webdriver.remote.webelement.WebElement (session=\"7ef28d0e3c94c929e29becb0f5438817\", element=\"0.8606819729331268-66\")>,\n",
       " <selenium.webdriver.remote.webelement.WebElement (session=\"7ef28d0e3c94c929e29becb0f5438817\", element=\"0.8606819729331268-67\")>,\n",
       " <selenium.webdriver.remote.webelement.WebElement (session=\"7ef28d0e3c94c929e29becb0f5438817\", element=\"0.8606819729331268-68\")>,\n",
       " <selenium.webdriver.remote.webelement.WebElement (session=\"7ef28d0e3c94c929e29becb0f5438817\", element=\"0.8606819729331268-69\")>]"
      ]
     },
     "execution_count": 15,
     "metadata": {},
     "output_type": "execute_result"
    }
   ],
   "source": [
    "exp_tag=driver.find_elements_by_xpath(\"//li[@class='fleft grey-text br2 placeHolderLi experience']/span[1]\")\n",
    "exp_tag[0:9]"
   ]
  },
  {
   "cell_type": "code",
   "execution_count": 16,
   "metadata": {},
   "outputs": [
    {
     "data": {
      "text/plain": [
       "['1-4 Yrs',\n",
       " '3-5 Yrs',\n",
       " '2-5 Yrs',\n",
       " '2-5 Yrs',\n",
       " '5-8 Yrs',\n",
       " '5-9 Yrs',\n",
       " '2-4 Yrs',\n",
       " '2-4 Yrs',\n",
       " '0-1 Yrs']"
      ]
     },
     "execution_count": 16,
     "metadata": {},
     "output_type": "execute_result"
    }
   ],
   "source": [
    "for i in exp_tag:\n",
    "    experience_list.append(i.text)\n",
    "experience_list[0:9]"
   ]
  },
  {
   "cell_type": "code",
   "execution_count": 17,
   "metadata": {},
   "outputs": [],
   "source": [
    "import pandas as pd\n",
    "DataAnalyst=pd.DataFrame()\n",
    "DataAnalyst['JOB_NAME']=job_title[0:9]\n",
    "DataAnalyst['COMPANY']=company_names[0:9]\n",
    "DataAnalyst['JOB_LOCATION']=locations_list[0:9]\n",
    "DataAnalyst['EXPERIENCE']=experience_list[0:9]"
   ]
  },
  {
   "cell_type": "code",
   "execution_count": 18,
   "metadata": {},
   "outputs": [
    {
     "data": {
      "text/html": [
       "<div>\n",
       "<style scoped>\n",
       "    .dataframe tbody tr th:only-of-type {\n",
       "        vertical-align: middle;\n",
       "    }\n",
       "\n",
       "    .dataframe tbody tr th {\n",
       "        vertical-align: top;\n",
       "    }\n",
       "\n",
       "    .dataframe thead th {\n",
       "        text-align: right;\n",
       "    }\n",
       "</style>\n",
       "<table border=\"1\" class=\"dataframe\">\n",
       "  <thead>\n",
       "    <tr style=\"text-align: right;\">\n",
       "      <th></th>\n",
       "      <th>JOB_NAME</th>\n",
       "      <th>COMPANY</th>\n",
       "      <th>JOB_LOCATION</th>\n",
       "      <th>EXPERIENCE</th>\n",
       "    </tr>\n",
       "  </thead>\n",
       "  <tbody>\n",
       "    <tr>\n",
       "      <th>0</th>\n",
       "      <td>MIS/ Data Analyst-(SQL,Automation,Excel/PowerB...</td>\n",
       "      <td>Flipkart Internet Private Limited</td>\n",
       "      <td>Bengaluru</td>\n",
       "      <td>1-4 Yrs</td>\n",
       "    </tr>\n",
       "    <tr>\n",
       "      <th>1</th>\n",
       "      <td>Data Analyst - SAP</td>\n",
       "      <td>Boston Scientific Corporation</td>\n",
       "      <td>Pune, Delhi, Bengaluru, Gurgaon</td>\n",
       "      <td>3-5 Yrs</td>\n",
       "    </tr>\n",
       "    <tr>\n",
       "      <th>2</th>\n",
       "      <td>Hiring Data Analysts on Contract</td>\n",
       "      <td>Flipkart Internet Private Limited</td>\n",
       "      <td>Bengaluru</td>\n",
       "      <td>2-5 Yrs</td>\n",
       "    </tr>\n",
       "    <tr>\n",
       "      <th>3</th>\n",
       "      <td>Senior Data Analyst</td>\n",
       "      <td>Schneider Electric</td>\n",
       "      <td>Bengaluru / Bangalore</td>\n",
       "      <td>2-5 Yrs</td>\n",
       "    </tr>\n",
       "    <tr>\n",
       "      <th>4</th>\n",
       "      <td>Data Analyst</td>\n",
       "      <td>Shell India Markets Private Limited</td>\n",
       "      <td>Bengaluru</td>\n",
       "      <td>5-8 Yrs</td>\n",
       "    </tr>\n",
       "    <tr>\n",
       "      <th>5</th>\n",
       "      <td>Data Analyst -Azure Data lake, Azure Data factory</td>\n",
       "      <td>Mindtree Limited</td>\n",
       "      <td>Chennai, Pune, Bengaluru, Hyderabad</td>\n",
       "      <td>5-9 Yrs</td>\n",
       "    </tr>\n",
       "    <tr>\n",
       "      <th>6</th>\n",
       "      <td>Business / Data Analyst</td>\n",
       "      <td>IBM India Pvt. Limited</td>\n",
       "      <td>Bengaluru</td>\n",
       "      <td>2-4 Yrs</td>\n",
       "    </tr>\n",
       "    <tr>\n",
       "      <th>7</th>\n",
       "      <td>Data Analyst - O2C - Bangalore</td>\n",
       "      <td>RANDSTAD INDIA PVT LTD</td>\n",
       "      <td>Bengaluru</td>\n",
       "      <td>2-4 Yrs</td>\n",
       "    </tr>\n",
       "    <tr>\n",
       "      <th>8</th>\n",
       "      <td>Intern Data Analyst</td>\n",
       "      <td>Outsource Big Data</td>\n",
       "      <td>Bengaluru</td>\n",
       "      <td>0-1 Yrs</td>\n",
       "    </tr>\n",
       "  </tbody>\n",
       "</table>\n",
       "</div>"
      ],
      "text/plain": [
       "                                            JOB_NAME  \\\n",
       "0  MIS/ Data Analyst-(SQL,Automation,Excel/PowerB...   \n",
       "1                                 Data Analyst - SAP   \n",
       "2                   Hiring Data Analysts on Contract   \n",
       "3                                Senior Data Analyst   \n",
       "4                                       Data Analyst   \n",
       "5  Data Analyst -Azure Data lake, Azure Data factory   \n",
       "6                            Business / Data Analyst   \n",
       "7                     Data Analyst - O2C - Bangalore   \n",
       "8                                Intern Data Analyst   \n",
       "\n",
       "                               COMPANY                         JOB_LOCATION  \\\n",
       "0    Flipkart Internet Private Limited                            Bengaluru   \n",
       "1        Boston Scientific Corporation      Pune, Delhi, Bengaluru, Gurgaon   \n",
       "2    Flipkart Internet Private Limited                            Bengaluru   \n",
       "3                   Schneider Electric                Bengaluru / Bangalore   \n",
       "4  Shell India Markets Private Limited                            Bengaluru   \n",
       "5                     Mindtree Limited  Chennai, Pune, Bengaluru, Hyderabad   \n",
       "6               IBM India Pvt. Limited                            Bengaluru   \n",
       "7               RANDSTAD INDIA PVT LTD                            Bengaluru   \n",
       "8                   Outsource Big Data                            Bengaluru   \n",
       "\n",
       "  EXPERIENCE  \n",
       "0    1-4 Yrs  \n",
       "1    3-5 Yrs  \n",
       "2    2-5 Yrs  \n",
       "3    2-5 Yrs  \n",
       "4    5-8 Yrs  \n",
       "5    5-9 Yrs  \n",
       "6    2-4 Yrs  \n",
       "7    2-4 Yrs  \n",
       "8    0-1 Yrs  "
      ]
     },
     "execution_count": 18,
     "metadata": {},
     "output_type": "execute_result"
    }
   ],
   "source": [
    "DataAnalyst"
   ]
  },
  {
   "cell_type": "code",
   "execution_count": null,
   "metadata": {},
   "outputs": [],
   "source": []
  }
 ],
 "metadata": {
  "kernelspec": {
   "display_name": "Python 3",
   "language": "python",
   "name": "python3"
  },
  "language_info": {
   "codemirror_mode": {
    "name": "ipython",
    "version": 3
   },
   "file_extension": ".py",
   "mimetype": "text/x-python",
   "name": "python",
   "nbconvert_exporter": "python",
   "pygments_lexer": "ipython3",
   "version": "3.7.6"
  }
 },
 "nbformat": 4,
 "nbformat_minor": 4
}
