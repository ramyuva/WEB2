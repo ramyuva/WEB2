{
 "cells": [
  {
   "cell_type": "code",
   "execution_count": 5,
   "metadata": {},
   "outputs": [],
   "source": [
    "import selenium\n",
    "import pandas as pd\n",
    "from selenium import webdriver\n"
   ]
  },
  {
   "cell_type": "code",
   "execution_count": 6,
   "metadata": {},
   "outputs": [],
   "source": [
    "driver=webdriver.Chrome(\"chromedriver.exe\")"
   ]
  },
  {
   "cell_type": "code",
   "execution_count": 7,
   "metadata": {},
   "outputs": [],
   "source": [
    "driver.get(\"https://www.glassdoor.co.in/Salaries/index.htm\")"
   ]
  },
  {
   "cell_type": "code",
   "execution_count": 8,
   "metadata": {},
   "outputs": [],
   "source": [
    "search_job=driver.find_element_by_id('KeywordSearch')\n",
    "search_job.send_keys(\"Data Scientist\")\n",
    "search_loc=driver.find_element_by_xpath(\"//input[@id='LocationSearch']\")\n",
    "search_loc.send_keys(\"Noida\")"
   ]
  },
  {
   "cell_type": "code",
   "execution_count": 9,
   "metadata": {},
   "outputs": [],
   "source": [
    "search_btn=driver.find_element_by_xpath(\"//button[@class='gd-btn-mkt']\")\n",
    "search_btn.click()"
   ]
  },
  {
   "cell_type": "code",
   "execution_count": 10,
   "metadata": {},
   "outputs": [],
   "source": [
    "url='https://www.glassdoor.co.in/Salaries/new-delhi-data-scientist-salary-SRCH_IL.0,9_IM1083_KO10,24.htm?clickSource=searchBtn'"
   ]
  },
  {
   "cell_type": "code",
   "execution_count": 11,
   "metadata": {},
   "outputs": [],
   "source": [
    "driver.get(url)"
   ]
  },
  {
   "cell_type": "code",
   "execution_count": 12,
   "metadata": {},
   "outputs": [],
   "source": [
    "company=[]\n",
    "no_of_salaries=[]\n",
    "avesal=[]\n",
    "minsal=[]\n",
    "maxsal=[]"
   ]
  },
  {
   "cell_type": "code",
   "execution_count": 13,
   "metadata": {},
   "outputs": [
    {
     "data": {
      "text/plain": [
       "[<selenium.webdriver.remote.webelement.WebElement (session=\"0b463896af8fd16950db02adbaf2c4f1\", element=\"0.08040960241336492-1\")>,\n",
       " <selenium.webdriver.remote.webelement.WebElement (session=\"0b463896af8fd16950db02adbaf2c4f1\", element=\"0.08040960241336492-2\")>,\n",
       " <selenium.webdriver.remote.webelement.WebElement (session=\"0b463896af8fd16950db02adbaf2c4f1\", element=\"0.08040960241336492-3\")>,\n",
       " <selenium.webdriver.remote.webelement.WebElement (session=\"0b463896af8fd16950db02adbaf2c4f1\", element=\"0.08040960241336492-4\")>,\n",
       " <selenium.webdriver.remote.webelement.WebElement (session=\"0b463896af8fd16950db02adbaf2c4f1\", element=\"0.08040960241336492-5\")>,\n",
       " <selenium.webdriver.remote.webelement.WebElement (session=\"0b463896af8fd16950db02adbaf2c4f1\", element=\"0.08040960241336492-6\")>,\n",
       " <selenium.webdriver.remote.webelement.WebElement (session=\"0b463896af8fd16950db02adbaf2c4f1\", element=\"0.08040960241336492-7\")>,\n",
       " <selenium.webdriver.remote.webelement.WebElement (session=\"0b463896af8fd16950db02adbaf2c4f1\", element=\"0.08040960241336492-8\")>,\n",
       " <selenium.webdriver.remote.webelement.WebElement (session=\"0b463896af8fd16950db02adbaf2c4f1\", element=\"0.08040960241336492-9\")>]"
      ]
     },
     "execution_count": 13,
     "metadata": {},
     "output_type": "execute_result"
    }
   ],
   "source": [
    "com_tag=driver.find_elements_by_xpath(\"//div[@data-test='job-info']/p[2]\")\n",
    "com_tag[0:9]"
   ]
  },
  {
   "cell_type": "code",
   "execution_count": 14,
   "metadata": {},
   "outputs": [
    {
     "data": {
      "text/plain": [
       "['Delhivery',\n",
       " 'Ericsson-Worldwide',\n",
       " 'Tata Consultancy Services',\n",
       " 'Accenture',\n",
       " 'IBM',\n",
       " 'UnitedHealth Group',\n",
       " 'Valiance Solutions',\n",
       " 'Innovaccer',\n",
       " 'Cognizant Technology Solutions']"
      ]
     },
     "execution_count": 14,
     "metadata": {},
     "output_type": "execute_result"
    }
   ],
   "source": [
    "for i in com_tag:\n",
    "    company.append(i.text)\n",
    "company[0:9]"
   ]
  },
  {
   "cell_type": "code",
   "execution_count": 15,
   "metadata": {},
   "outputs": [
    {
     "data": {
      "text/plain": [
       "[<selenium.webdriver.remote.webelement.WebElement (session=\"0b463896af8fd16950db02adbaf2c4f1\", element=\"0.08040960241336492-21\")>,\n",
       " <selenium.webdriver.remote.webelement.WebElement (session=\"0b463896af8fd16950db02adbaf2c4f1\", element=\"0.08040960241336492-22\")>,\n",
       " <selenium.webdriver.remote.webelement.WebElement (session=\"0b463896af8fd16950db02adbaf2c4f1\", element=\"0.08040960241336492-23\")>,\n",
       " <selenium.webdriver.remote.webelement.WebElement (session=\"0b463896af8fd16950db02adbaf2c4f1\", element=\"0.08040960241336492-24\")>,\n",
       " <selenium.webdriver.remote.webelement.WebElement (session=\"0b463896af8fd16950db02adbaf2c4f1\", element=\"0.08040960241336492-25\")>,\n",
       " <selenium.webdriver.remote.webelement.WebElement (session=\"0b463896af8fd16950db02adbaf2c4f1\", element=\"0.08040960241336492-26\")>,\n",
       " <selenium.webdriver.remote.webelement.WebElement (session=\"0b463896af8fd16950db02adbaf2c4f1\", element=\"0.08040960241336492-27\")>,\n",
       " <selenium.webdriver.remote.webelement.WebElement (session=\"0b463896af8fd16950db02adbaf2c4f1\", element=\"0.08040960241336492-28\")>,\n",
       " <selenium.webdriver.remote.webelement.WebElement (session=\"0b463896af8fd16950db02adbaf2c4f1\", element=\"0.08040960241336492-29\")>]"
      ]
     },
     "execution_count": 15,
     "metadata": {},
     "output_type": "execute_result"
    }
   ],
   "source": [
    "sal_tag=driver.find_elements_by_xpath(\"//div[@data-test='job-info']/p[5]\")\n",
    "sal_tag[0:9]"
   ]
  },
  {
   "cell_type": "code",
   "execution_count": 16,
   "metadata": {},
   "outputs": [
    {
     "data": {
      "text/plain": [
       "['13 salaries',\n",
       " '12 salaries',\n",
       " '11 salaries',\n",
       " '10 salaries',\n",
       " '10 salaries',\n",
       " '9 salaries',\n",
       " '8 salaries',\n",
       " '7 salaries',\n",
       " '6 salaries']"
      ]
     },
     "execution_count": 16,
     "metadata": {},
     "output_type": "execute_result"
    }
   ],
   "source": [
    "for i in sal_tag:\n",
    "    no_of_salaries.append(i.text)\n",
    "no_of_salaries[0:9]"
   ]
  },
  {
   "cell_type": "code",
   "execution_count": 17,
   "metadata": {},
   "outputs": [
    {
     "data": {
      "text/plain": [
       "[<selenium.webdriver.remote.webelement.WebElement (session=\"0b463896af8fd16950db02adbaf2c4f1\", element=\"0.08040960241336492-41\")>,\n",
       " <selenium.webdriver.remote.webelement.WebElement (session=\"0b463896af8fd16950db02adbaf2c4f1\", element=\"0.08040960241336492-42\")>,\n",
       " <selenium.webdriver.remote.webelement.WebElement (session=\"0b463896af8fd16950db02adbaf2c4f1\", element=\"0.08040960241336492-43\")>,\n",
       " <selenium.webdriver.remote.webelement.WebElement (session=\"0b463896af8fd16950db02adbaf2c4f1\", element=\"0.08040960241336492-44\")>,\n",
       " <selenium.webdriver.remote.webelement.WebElement (session=\"0b463896af8fd16950db02adbaf2c4f1\", element=\"0.08040960241336492-45\")>,\n",
       " <selenium.webdriver.remote.webelement.WebElement (session=\"0b463896af8fd16950db02adbaf2c4f1\", element=\"0.08040960241336492-46\")>,\n",
       " <selenium.webdriver.remote.webelement.WebElement (session=\"0b463896af8fd16950db02adbaf2c4f1\", element=\"0.08040960241336492-47\")>,\n",
       " <selenium.webdriver.remote.webelement.WebElement (session=\"0b463896af8fd16950db02adbaf2c4f1\", element=\"0.08040960241336492-48\")>,\n",
       " <selenium.webdriver.remote.webelement.WebElement (session=\"0b463896af8fd16950db02adbaf2c4f1\", element=\"0.08040960241336492-49\")>]"
      ]
     },
     "execution_count": 17,
     "metadata": {},
     "output_type": "execute_result"
    }
   ],
   "source": [
    "avg_tag=driver.find_elements_by_xpath(\"//div[@class='col-2 d-none d-md-flex flex-row justify-content-end']\")\n",
    "avg_tag[0:9]"
   ]
  },
  {
   "cell_type": "code",
   "execution_count": 18,
   "metadata": {},
   "outputs": [
    {
     "data": {
      "text/plain": [
       "['₹ 12,64,182\\n/yr',\n",
       " '₹ 7,30,968\\n/yr',\n",
       " '₹ 6,00,000\\n/yr',\n",
       " '₹ 9,94,055\\n/yr',\n",
       " '₹ 7,39,040\\n/yr',\n",
       " '₹ 13,37,114\\n/yr',\n",
       " '₹ 7,80,374\\n/yr',\n",
       " '₹ 11,98,792\\n/yr',\n",
       " '₹ 10,08,143\\n/yr']"
      ]
     },
     "execution_count": 18,
     "metadata": {},
     "output_type": "execute_result"
    }
   ],
   "source": [
    "for i in avg_tag:\n",
    "    avesal.append(i.text)\n",
    "avesal[0:9]"
   ]
  },
  {
   "cell_type": "code",
   "execution_count": 19,
   "metadata": {},
   "outputs": [
    {
     "data": {
      "text/plain": [
       "[<selenium.webdriver.remote.webelement.WebElement (session=\"0b463896af8fd16950db02adbaf2c4f1\", element=\"0.08040960241336492-61\")>,\n",
       " <selenium.webdriver.remote.webelement.WebElement (session=\"0b463896af8fd16950db02adbaf2c4f1\", element=\"0.08040960241336492-62\")>,\n",
       " <selenium.webdriver.remote.webelement.WebElement (session=\"0b463896af8fd16950db02adbaf2c4f1\", element=\"0.08040960241336492-63\")>,\n",
       " <selenium.webdriver.remote.webelement.WebElement (session=\"0b463896af8fd16950db02adbaf2c4f1\", element=\"0.08040960241336492-64\")>,\n",
       " <selenium.webdriver.remote.webelement.WebElement (session=\"0b463896af8fd16950db02adbaf2c4f1\", element=\"0.08040960241336492-65\")>,\n",
       " <selenium.webdriver.remote.webelement.WebElement (session=\"0b463896af8fd16950db02adbaf2c4f1\", element=\"0.08040960241336492-66\")>,\n",
       " <selenium.webdriver.remote.webelement.WebElement (session=\"0b463896af8fd16950db02adbaf2c4f1\", element=\"0.08040960241336492-67\")>,\n",
       " <selenium.webdriver.remote.webelement.WebElement (session=\"0b463896af8fd16950db02adbaf2c4f1\", element=\"0.08040960241336492-68\")>,\n",
       " <selenium.webdriver.remote.webelement.WebElement (session=\"0b463896af8fd16950db02adbaf2c4f1\", element=\"0.08040960241336492-69\")>]"
      ]
     },
     "execution_count": 19,
     "metadata": {},
     "output_type": "execute_result"
    }
   ],
   "source": [
    "min_tag=driver.find_elements_by_xpath(\"//div[@class='common__RangeBarStyle__values common__flex__justifySpaceBetween common__flex__container ']/span[1]\")\n",
    "min_tag[0:9]"
   ]
  },
  {
   "cell_type": "code",
   "execution_count": 24,
   "metadata": {},
   "outputs": [
    {
     "data": {
      "text/plain": [
       "['₹450K',\n",
       " '₹350K',\n",
       " '₹336K',\n",
       " '₹577K',\n",
       " '₹587K',\n",
       " '₹717K',\n",
       " '₹502K',\n",
       " '₹621K',\n",
       " '₹793K']"
      ]
     },
     "execution_count": 24,
     "metadata": {},
     "output_type": "execute_result"
    }
   ],
   "source": [
    "for i in min_tag:\n",
    "    minsal.append(i.text)\n",
    "minsal[0:9]"
   ]
  },
  {
   "cell_type": "code",
   "execution_count": 22,
   "metadata": {},
   "outputs": [
    {
     "data": {
      "text/plain": [
       "[<selenium.webdriver.remote.webelement.WebElement (session=\"0b463896af8fd16950db02adbaf2c4f1\", element=\"0.08040960241336492-81\")>,\n",
       " <selenium.webdriver.remote.webelement.WebElement (session=\"0b463896af8fd16950db02adbaf2c4f1\", element=\"0.08040960241336492-82\")>,\n",
       " <selenium.webdriver.remote.webelement.WebElement (session=\"0b463896af8fd16950db02adbaf2c4f1\", element=\"0.08040960241336492-83\")>,\n",
       " <selenium.webdriver.remote.webelement.WebElement (session=\"0b463896af8fd16950db02adbaf2c4f1\", element=\"0.08040960241336492-84\")>,\n",
       " <selenium.webdriver.remote.webelement.WebElement (session=\"0b463896af8fd16950db02adbaf2c4f1\", element=\"0.08040960241336492-85\")>,\n",
       " <selenium.webdriver.remote.webelement.WebElement (session=\"0b463896af8fd16950db02adbaf2c4f1\", element=\"0.08040960241336492-86\")>,\n",
       " <selenium.webdriver.remote.webelement.WebElement (session=\"0b463896af8fd16950db02adbaf2c4f1\", element=\"0.08040960241336492-87\")>,\n",
       " <selenium.webdriver.remote.webelement.WebElement (session=\"0b463896af8fd16950db02adbaf2c4f1\", element=\"0.08040960241336492-88\")>,\n",
       " <selenium.webdriver.remote.webelement.WebElement (session=\"0b463896af8fd16950db02adbaf2c4f1\", element=\"0.08040960241336492-89\")>]"
      ]
     },
     "execution_count": 22,
     "metadata": {},
     "output_type": "execute_result"
    }
   ],
   "source": [
    "max_tag=driver.find_elements_by_xpath(\"//div[@class='common__RangeBarStyle__values common__flex__justifySpaceBetween common__flex__container ']/span[2]\")\n",
    "max_tag[0:9]"
   ]
  },
  {
   "cell_type": "code",
   "execution_count": 23,
   "metadata": {},
   "outputs": [
    {
     "data": {
      "text/plain": [
       "['₹11,630K',\n",
       " '₹1,614K',\n",
       " '₹1,010K',\n",
       " '₹2,215K',\n",
       " '₹2,732K',\n",
       " '₹1,575K',\n",
       " '₹1,152K',\n",
       " '₹1,696K',\n",
       " '₹1,264K']"
      ]
     },
     "execution_count": 23,
     "metadata": {},
     "output_type": "execute_result"
    }
   ],
   "source": [
    "for i in max_tag:\n",
    "    maxsal.append(i.text)\n",
    "maxsal[0:9]"
   ]
  },
  {
   "cell_type": "code",
   "execution_count": null,
   "metadata": {},
   "outputs": [],
   "source": [
    "company=[]\n",
    "no_of_salaries=[]\n",
    "avesal=[]\n",
    "minsal=[]\n",
    "maxsal=[]"
   ]
  },
  {
   "cell_type": "code",
   "execution_count": 26,
   "metadata": {},
   "outputs": [],
   "source": [
    "import pandas as pd\n",
    "DataScientist_salary=pd.DataFrame()\n",
    "DataScientist_salary['COMPANY']=company[0:9]\n",
    "DataScientist_salary['NO_OF_SALARIES']=no_of_salaries[0:9]\n",
    "DataScientist_salary['AVG_SALARY']=avesal[0:9]\n",
    "DataScientist_salary['MINIMUM_SALARY']=minsal[0:9]\n",
    "DataScientist_salary['MAXIMUM_SALARY']=maxsal[0:9]"
   ]
  },
  {
   "cell_type": "code",
   "execution_count": 27,
   "metadata": {},
   "outputs": [
    {
     "data": {
      "text/html": [
       "<div>\n",
       "<style scoped>\n",
       "    .dataframe tbody tr th:only-of-type {\n",
       "        vertical-align: middle;\n",
       "    }\n",
       "\n",
       "    .dataframe tbody tr th {\n",
       "        vertical-align: top;\n",
       "    }\n",
       "\n",
       "    .dataframe thead th {\n",
       "        text-align: right;\n",
       "    }\n",
       "</style>\n",
       "<table border=\"1\" class=\"dataframe\">\n",
       "  <thead>\n",
       "    <tr style=\"text-align: right;\">\n",
       "      <th></th>\n",
       "      <th>COMPANY</th>\n",
       "      <th>NO_OF_SALARIES</th>\n",
       "      <th>AVG_SALARY</th>\n",
       "      <th>MINIMUM_SALARY</th>\n",
       "      <th>MAXIMUM_SALARY</th>\n",
       "    </tr>\n",
       "  </thead>\n",
       "  <tbody>\n",
       "    <tr>\n",
       "      <th>0</th>\n",
       "      <td>Delhivery</td>\n",
       "      <td>13 salaries</td>\n",
       "      <td>₹ 12,64,182\\n/yr</td>\n",
       "      <td>₹450K</td>\n",
       "      <td>₹11,630K</td>\n",
       "    </tr>\n",
       "    <tr>\n",
       "      <th>1</th>\n",
       "      <td>Ericsson-Worldwide</td>\n",
       "      <td>12 salaries</td>\n",
       "      <td>₹ 7,30,968\\n/yr</td>\n",
       "      <td>₹350K</td>\n",
       "      <td>₹1,614K</td>\n",
       "    </tr>\n",
       "    <tr>\n",
       "      <th>2</th>\n",
       "      <td>Tata Consultancy Services</td>\n",
       "      <td>11 salaries</td>\n",
       "      <td>₹ 6,00,000\\n/yr</td>\n",
       "      <td>₹336K</td>\n",
       "      <td>₹1,010K</td>\n",
       "    </tr>\n",
       "    <tr>\n",
       "      <th>3</th>\n",
       "      <td>Accenture</td>\n",
       "      <td>10 salaries</td>\n",
       "      <td>₹ 9,94,055\\n/yr</td>\n",
       "      <td>₹577K</td>\n",
       "      <td>₹2,215K</td>\n",
       "    </tr>\n",
       "    <tr>\n",
       "      <th>4</th>\n",
       "      <td>IBM</td>\n",
       "      <td>10 salaries</td>\n",
       "      <td>₹ 7,39,040\\n/yr</td>\n",
       "      <td>₹587K</td>\n",
       "      <td>₹2,732K</td>\n",
       "    </tr>\n",
       "    <tr>\n",
       "      <th>5</th>\n",
       "      <td>UnitedHealth Group</td>\n",
       "      <td>9 salaries</td>\n",
       "      <td>₹ 13,37,114\\n/yr</td>\n",
       "      <td>₹717K</td>\n",
       "      <td>₹1,575K</td>\n",
       "    </tr>\n",
       "    <tr>\n",
       "      <th>6</th>\n",
       "      <td>Valiance Solutions</td>\n",
       "      <td>8 salaries</td>\n",
       "      <td>₹ 7,80,374\\n/yr</td>\n",
       "      <td>₹502K</td>\n",
       "      <td>₹1,152K</td>\n",
       "    </tr>\n",
       "    <tr>\n",
       "      <th>7</th>\n",
       "      <td>Innovaccer</td>\n",
       "      <td>7 salaries</td>\n",
       "      <td>₹ 11,98,792\\n/yr</td>\n",
       "      <td>₹621K</td>\n",
       "      <td>₹1,696K</td>\n",
       "    </tr>\n",
       "    <tr>\n",
       "      <th>8</th>\n",
       "      <td>Cognizant Technology Solutions</td>\n",
       "      <td>6 salaries</td>\n",
       "      <td>₹ 10,08,143\\n/yr</td>\n",
       "      <td>₹793K</td>\n",
       "      <td>₹1,264K</td>\n",
       "    </tr>\n",
       "  </tbody>\n",
       "</table>\n",
       "</div>"
      ],
      "text/plain": [
       "                          COMPANY NO_OF_SALARIES        AVG_SALARY  \\\n",
       "0                       Delhivery    13 salaries  ₹ 12,64,182\\n/yr   \n",
       "1              Ericsson-Worldwide    12 salaries   ₹ 7,30,968\\n/yr   \n",
       "2       Tata Consultancy Services    11 salaries   ₹ 6,00,000\\n/yr   \n",
       "3                       Accenture    10 salaries   ₹ 9,94,055\\n/yr   \n",
       "4                             IBM    10 salaries   ₹ 7,39,040\\n/yr   \n",
       "5              UnitedHealth Group     9 salaries  ₹ 13,37,114\\n/yr   \n",
       "6              Valiance Solutions     8 salaries   ₹ 7,80,374\\n/yr   \n",
       "7                      Innovaccer     7 salaries  ₹ 11,98,792\\n/yr   \n",
       "8  Cognizant Technology Solutions     6 salaries  ₹ 10,08,143\\n/yr   \n",
       "\n",
       "  MINIMUM_SALARY MAXIMUM_SALARY  \n",
       "0          ₹450K       ₹11,630K  \n",
       "1          ₹350K        ₹1,614K  \n",
       "2          ₹336K        ₹1,010K  \n",
       "3          ₹577K        ₹2,215K  \n",
       "4          ₹587K        ₹2,732K  \n",
       "5          ₹717K        ₹1,575K  \n",
       "6          ₹502K        ₹1,152K  \n",
       "7          ₹621K        ₹1,696K  \n",
       "8          ₹793K        ₹1,264K  "
      ]
     },
     "execution_count": 27,
     "metadata": {},
     "output_type": "execute_result"
    }
   ],
   "source": [
    "DataScientist_salary"
   ]
  },
  {
   "cell_type": "code",
   "execution_count": null,
   "metadata": {},
   "outputs": [],
   "source": []
  }
 ],
 "metadata": {
  "kernelspec": {
   "display_name": "Python 3",
   "language": "python",
   "name": "python3"
  },
  "language_info": {
   "codemirror_mode": {
    "name": "ipython",
    "version": 3
   },
   "file_extension": ".py",
   "mimetype": "text/x-python",
   "name": "python",
   "nbconvert_exporter": "python",
   "pygments_lexer": "ipython3",
   "version": "3.7.6"
  }
 },
 "nbformat": 4,
 "nbformat_minor": 4
}
