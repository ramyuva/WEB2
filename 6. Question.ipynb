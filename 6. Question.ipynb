{
 "cells": [
  {
   "cell_type": "code",
   "execution_count": 2,
   "metadata": {},
   "outputs": [],
   "source": [
    "# Importing Libraries\n",
    "import pandas as pd\n",
    "from bs4 import BeautifulSoup\n",
    "import requests\n",
    "import selenium\n",
    "from selenium import webdriver\n",
    "import time"
   ]
  },
  {
   "cell_type": "code",
   "execution_count": 9,
   "metadata": {
    "scrolled": false
   },
   "outputs": [
    {
     "name": "stdout",
     "output_type": "stream",
     "text": [
      "               Brand                                       product_desc price  \\\n",
      "0         ROYAL SON   Product DetailsSizeThis product is sold as Med...  ₹854   \n",
      "1         Royal Son   Product DetailsSizeThis product is sold as Med...  ₹379   \n",
      "2    ROZZETTA CRAFT   Product DetailsSizeThis product is sold as Fre...  ₹499   \n",
      "3          Fastrack   Product DetailsSizeThis product is sold as Fre...  ₹499   \n",
      "4          Fastrack   Product DetailsSizeThis product is sold as Fre...  ₹499   \n",
      "..               ...                                                ...   ...   \n",
      "115            LOPO   Product DetailsSizeThis product is sold as Fre...  ₹179   \n",
      "116        Fastrack   Product DetailsSizeThis product is sold as Fre...  ₹695   \n",
      "117         Ayezent   Product DetailsSizeThis product is sold as Sma...  ₹282   \n",
      "118       Royal Son   Product DetailsSizeThis product is sold as Lar...  ₹279   \n",
      "119        Elegante   Product DetailsSizeThis product is sold as Fre...  ₹449   \n",
      "\n",
      "    Discount  \n",
      "0    57% off  \n",
      "1    74% off  \n",
      "2    77% off  \n",
      "3    37% off  \n",
      "4    37% off  \n",
      "..       ...  \n",
      "115  74% off  \n",
      "116  13% off  \n",
      "117  85% off  \n",
      "118  78% off  \n",
      "119  70% off  \n",
      "\n",
      "[120 rows x 4 columns]\n"
     ]
    }
   ],
   "source": [
    "# Function Definition\n",
    "def flipkart_sunglasses(url):\n",
    "    driver=webdriver.Chrome('chromedriver.exe')\n",
    "    start_page=0\n",
    "    end_page=2\n",
    "    urls = []\n",
    "    brand=[]\n",
    "    product_desc=[]\n",
    "    price=[]\n",
    "    discount=[]\n",
    "    #loop to fetch urls of each mobile till page 3\n",
    "    for page in range(start_page,end_page+1):\n",
    "        driver.get(url)\n",
    "        soup= BeautifulSoup(driver.page_source, 'html.parser')\n",
    "        prod_urls = soup.find_all('a', attrs ={'class':'IRpwTa'})\n",
    "        for prod in prod_urls:\n",
    "            urls.append('https://www.flipkart.com'+prod.get('href'))\n",
    "    \n",
    "    #loop to scrap required details from each mobile page\n",
    "    for url in urls:\n",
    "        driver.get(url)\n",
    "        soup = BeautifulSoup(driver.page_source, 'html.parser')\n",
    "        n = soup.find('h1',attrs={'class':'yhB1nd'})\n",
    "        if n is not None:\n",
    "            brand.append(n.find('span').text.replace('\\n',''))\n",
    "        else:\n",
    "            brand.append('-')\n",
    "        desc = soup.find('div', attrs = {'class':'_2yIA0Y'})\n",
    "        if desc is not None:\n",
    "            product_desc.append(desc.text)\n",
    "        else:\n",
    "            product_desc.append('-')\n",
    "        p = soup.find('div', attrs = {'class':'_30jeq3 _16Jk6d'})\n",
    "        if p is not None:\n",
    "            price.append(p.text)\n",
    "        else:\n",
    "            price.append('-')\n",
    "        dis = soup.find('div', attrs = {'class':'_3Ay6Sb _31Dcoz pZkvcx'})\n",
    "        if dis is not None:\n",
    "            discount.append(dis.find('span').text)\n",
    "        else:\n",
    "            discount.append('-')\n",
    "    sun_df =pd.DataFrame({'Brand':brand,\n",
    "                          'product_desc':product_desc,\n",
    "                          'price':price,\n",
    "                          'Discount':discount})\n",
    "    print(sun_df)\n",
    "    sun_df.to_csv('flipkart.csv', index = False)\n",
    "    \n",
    "    \n",
    "# Calling Function\n",
    "flipkart_sunglasses('https://www.flipkart.com/search?q=sunglasses&otracker=search&otracker1=search&marketplace=FLIPKART&as-show=on&as=off&as-pos=1&as-type=HISTORY')\n"
   ]
  },
  {
   "cell_type": "code",
   "execution_count": null,
   "metadata": {},
   "outputs": [],
   "source": []
  }
 ],
 "metadata": {
  "kernelspec": {
   "display_name": "Python 3",
   "language": "python",
   "name": "python3"
  },
  "language_info": {
   "codemirror_mode": {
    "name": "ipython",
    "version": 3
   },
   "file_extension": ".py",
   "mimetype": "text/x-python",
   "name": "python",
   "nbconvert_exporter": "python",
   "pygments_lexer": "ipython3",
   "version": "3.7.6"
  }
 },
 "nbformat": 4,
 "nbformat_minor": 4
}
