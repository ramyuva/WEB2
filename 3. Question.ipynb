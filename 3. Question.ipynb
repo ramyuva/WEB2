{
 "cells": [
  {
   "cell_type": "code",
   "execution_count": 1,
   "metadata": {},
   "outputs": [],
   "source": [
    "import selenium\n",
    "import pandas as pd\n",
    "from selenium import webdriver"
   ]
  },
  {
   "cell_type": "code",
   "execution_count": 2,
   "metadata": {},
   "outputs": [],
   "source": [
    "driver=webdriver.Chrome(\"chromedriver.exe\")"
   ]
  },
  {
   "cell_type": "code",
   "execution_count": 3,
   "metadata": {},
   "outputs": [],
   "source": [
    "driver.get(\"https://www.naukri.com/\")"
   ]
  },
  {
   "cell_type": "code",
   "execution_count": 4,
   "metadata": {},
   "outputs": [],
   "source": [
    "search_job=driver.find_element_by_id('qsb-keyword-sugg')\n",
    "search_job.send_keys(\"Data Scientist\")"
   ]
  },
  {
   "cell_type": "code",
   "execution_count": 5,
   "metadata": {},
   "outputs": [],
   "source": [
    "search_btn=driver.find_element_by_xpath(\"//div[@title='search-btn']/button\")\n",
    "search_btn.click()"
   ]
  },
  {
   "cell_type": "code",
   "execution_count": 7,
   "metadata": {},
   "outputs": [],
   "source": [
    "search_checkbox1=driver.find_element_by_xpath(\"//span[@title='Delhi/NCR']\")\n",
    "search_checkbox1.click()"
   ]
  },
  {
   "cell_type": "code",
   "execution_count": 8,
   "metadata": {},
   "outputs": [],
   "source": [
    "search_checkbox2=driver.find_element_by_xpath(\"//span[@title='3-6 Lakhs']\")\n",
    "search_checkbox2.click()"
   ]
  },
  {
   "cell_type": "code",
   "execution_count": 9,
   "metadata": {},
   "outputs": [],
   "source": [
    "url=\"https://www.naukri.com/data-scientist-jobs?k=data%20scientist&cityType=25.9.31&ctcFilter=3to6\""
   ]
  },
  {
   "cell_type": "code",
   "execution_count": 10,
   "metadata": {},
   "outputs": [],
   "source": [
    "driver.get(url)"
   ]
  },
  {
   "cell_type": "code",
   "execution_count": 11,
   "metadata": {},
   "outputs": [],
   "source": [
    "job_title=[]\n",
    "company_names=[]\n",
    "locations_list=[]\n",
    "experience_list=[]"
   ]
  },
  {
   "cell_type": "code",
   "execution_count": 12,
   "metadata": {},
   "outputs": [
    {
     "data": {
      "text/plain": [
       "[<selenium.webdriver.remote.webelement.WebElement (session=\"0ac08282accefe8c83f1418179dac179\", element=\"0.0758185022803366-1\")>,\n",
       " <selenium.webdriver.remote.webelement.WebElement (session=\"0ac08282accefe8c83f1418179dac179\", element=\"0.0758185022803366-2\")>,\n",
       " <selenium.webdriver.remote.webelement.WebElement (session=\"0ac08282accefe8c83f1418179dac179\", element=\"0.0758185022803366-3\")>,\n",
       " <selenium.webdriver.remote.webelement.WebElement (session=\"0ac08282accefe8c83f1418179dac179\", element=\"0.0758185022803366-4\")>,\n",
       " <selenium.webdriver.remote.webelement.WebElement (session=\"0ac08282accefe8c83f1418179dac179\", element=\"0.0758185022803366-5\")>,\n",
       " <selenium.webdriver.remote.webelement.WebElement (session=\"0ac08282accefe8c83f1418179dac179\", element=\"0.0758185022803366-6\")>,\n",
       " <selenium.webdriver.remote.webelement.WebElement (session=\"0ac08282accefe8c83f1418179dac179\", element=\"0.0758185022803366-7\")>,\n",
       " <selenium.webdriver.remote.webelement.WebElement (session=\"0ac08282accefe8c83f1418179dac179\", element=\"0.0758185022803366-8\")>,\n",
       " <selenium.webdriver.remote.webelement.WebElement (session=\"0ac08282accefe8c83f1418179dac179\", element=\"0.0758185022803366-9\")>]"
      ]
     },
     "execution_count": 12,
     "metadata": {},
     "output_type": "execute_result"
    }
   ],
   "source": [
    "titles_tag=driver.find_elements_by_xpath(\"//a[@class='title fw500 ellipsis']\")\n",
    "titles_tag[0:9]"
   ]
  },
  {
   "cell_type": "code",
   "execution_count": 13,
   "metadata": {},
   "outputs": [
    {
     "data": {
      "text/plain": [
       "['Data Scientist',\n",
       " 'Data Scientist',\n",
       " 'Senior Data Scientist - Computer Vision',\n",
       " 'Data Scientist - Machine Learning/ NLP',\n",
       " 'Only Fresher / Data Scientist / Data Analyst / Analytics - MNC',\n",
       " 'Data Scientist',\n",
       " 'Data Scientist - Tableau/Power BI',\n",
       " 'GCP Skilled Analytics Resources (Data engineer / Data scientists)',\n",
       " 'Data Scientist - IT']"
      ]
     },
     "execution_count": 13,
     "metadata": {},
     "output_type": "execute_result"
    }
   ],
   "source": [
    "for i in titles_tag:\n",
    "    job_title.append(i.text)\n",
    "job_title[0:9]"
   ]
  },
  {
   "cell_type": "code",
   "execution_count": 14,
   "metadata": {},
   "outputs": [
    {
     "data": {
      "text/plain": [
       "[<selenium.webdriver.remote.webelement.WebElement (session=\"0ac08282accefe8c83f1418179dac179\", element=\"0.0758185022803366-21\")>,\n",
       " <selenium.webdriver.remote.webelement.WebElement (session=\"0ac08282accefe8c83f1418179dac179\", element=\"0.0758185022803366-22\")>,\n",
       " <selenium.webdriver.remote.webelement.WebElement (session=\"0ac08282accefe8c83f1418179dac179\", element=\"0.0758185022803366-23\")>,\n",
       " <selenium.webdriver.remote.webelement.WebElement (session=\"0ac08282accefe8c83f1418179dac179\", element=\"0.0758185022803366-24\")>,\n",
       " <selenium.webdriver.remote.webelement.WebElement (session=\"0ac08282accefe8c83f1418179dac179\", element=\"0.0758185022803366-25\")>,\n",
       " <selenium.webdriver.remote.webelement.WebElement (session=\"0ac08282accefe8c83f1418179dac179\", element=\"0.0758185022803366-26\")>,\n",
       " <selenium.webdriver.remote.webelement.WebElement (session=\"0ac08282accefe8c83f1418179dac179\", element=\"0.0758185022803366-27\")>,\n",
       " <selenium.webdriver.remote.webelement.WebElement (session=\"0ac08282accefe8c83f1418179dac179\", element=\"0.0758185022803366-28\")>,\n",
       " <selenium.webdriver.remote.webelement.WebElement (session=\"0ac08282accefe8c83f1418179dac179\", element=\"0.0758185022803366-29\")>]"
      ]
     },
     "execution_count": 14,
     "metadata": {},
     "output_type": "execute_result"
    }
   ],
   "source": [
    "company_tag=driver.find_elements_by_xpath(\"//a[@class='subTitle ellipsis fleft']\")\n",
    "company_tag[0:9]"
   ]
  },
  {
   "cell_type": "code",
   "execution_count": 15,
   "metadata": {},
   "outputs": [
    {
     "data": {
      "text/plain": [
       "['Country Veggie',\n",
       " 'IBM India Pvt. Limited',\n",
       " 'IRIS SOFTWARE Inc',\n",
       " 'TalPro',\n",
       " 'GABA Consultancy services',\n",
       " 'Ciena',\n",
       " 'Talent Stock Solutions',\n",
       " 'Aerial Telecom Solutions Pvt. Ltd.',\n",
       " 'Ehireo']"
      ]
     },
     "execution_count": 15,
     "metadata": {},
     "output_type": "execute_result"
    }
   ],
   "source": [
    "for i in company_tag:\n",
    "    company_names.append(i.text)\n",
    "company_names[0:9]"
   ]
  },
  {
   "cell_type": "code",
   "execution_count": 16,
   "metadata": {},
   "outputs": [
    {
     "data": {
      "text/plain": [
       "[<selenium.webdriver.remote.webelement.WebElement (session=\"0ac08282accefe8c83f1418179dac179\", element=\"0.0758185022803366-41\")>,\n",
       " <selenium.webdriver.remote.webelement.WebElement (session=\"0ac08282accefe8c83f1418179dac179\", element=\"0.0758185022803366-42\")>,\n",
       " <selenium.webdriver.remote.webelement.WebElement (session=\"0ac08282accefe8c83f1418179dac179\", element=\"0.0758185022803366-43\")>,\n",
       " <selenium.webdriver.remote.webelement.WebElement (session=\"0ac08282accefe8c83f1418179dac179\", element=\"0.0758185022803366-44\")>,\n",
       " <selenium.webdriver.remote.webelement.WebElement (session=\"0ac08282accefe8c83f1418179dac179\", element=\"0.0758185022803366-45\")>,\n",
       " <selenium.webdriver.remote.webelement.WebElement (session=\"0ac08282accefe8c83f1418179dac179\", element=\"0.0758185022803366-46\")>,\n",
       " <selenium.webdriver.remote.webelement.WebElement (session=\"0ac08282accefe8c83f1418179dac179\", element=\"0.0758185022803366-47\")>,\n",
       " <selenium.webdriver.remote.webelement.WebElement (session=\"0ac08282accefe8c83f1418179dac179\", element=\"0.0758185022803366-48\")>,\n",
       " <selenium.webdriver.remote.webelement.WebElement (session=\"0ac08282accefe8c83f1418179dac179\", element=\"0.0758185022803366-49\")>]"
      ]
     },
     "execution_count": 16,
     "metadata": {},
     "output_type": "execute_result"
    }
   ],
   "source": [
    "loc_tag=driver.find_elements_by_xpath(\"//li[@class='fleft grey-text br2 placeHolderLi location']/span[1]\")\n",
    "loc_tag[0:9]"
   ]
  },
  {
   "cell_type": "code",
   "execution_count": 17,
   "metadata": {},
   "outputs": [
    {
     "data": {
      "text/plain": [
       "['Ghaziabad, Bhopal, Lucknow, Kanpur, Rajkot, Bengaluru, Gurgaon, Agra, Bharuch, Jaunpur, Nagpur, Delhi, Mumbai, Jaipur, Jhansi',\n",
       " 'Gurgaon Gurugram',\n",
       " 'Delhi NCR',\n",
       " 'Gurgaon Gurugram',\n",
       " 'Delhi NCR, Noida, Gurgaon',\n",
       " 'Gurgaon Gurugram',\n",
       " 'Delhi',\n",
       " 'Pune, Bengaluru, Gurgaon',\n",
       " 'Gurgaon']"
      ]
     },
     "execution_count": 17,
     "metadata": {},
     "output_type": "execute_result"
    }
   ],
   "source": [
    "for i in loc_tag:\n",
    "    locations_list.append(i.text)\n",
    "locations_list[0:9]"
   ]
  },
  {
   "cell_type": "code",
   "execution_count": 18,
   "metadata": {},
   "outputs": [
    {
     "data": {
      "text/plain": [
       "[<selenium.webdriver.remote.webelement.WebElement (session=\"0ac08282accefe8c83f1418179dac179\", element=\"0.0758185022803366-61\")>,\n",
       " <selenium.webdriver.remote.webelement.WebElement (session=\"0ac08282accefe8c83f1418179dac179\", element=\"0.0758185022803366-62\")>,\n",
       " <selenium.webdriver.remote.webelement.WebElement (session=\"0ac08282accefe8c83f1418179dac179\", element=\"0.0758185022803366-63\")>,\n",
       " <selenium.webdriver.remote.webelement.WebElement (session=\"0ac08282accefe8c83f1418179dac179\", element=\"0.0758185022803366-64\")>,\n",
       " <selenium.webdriver.remote.webelement.WebElement (session=\"0ac08282accefe8c83f1418179dac179\", element=\"0.0758185022803366-65\")>,\n",
       " <selenium.webdriver.remote.webelement.WebElement (session=\"0ac08282accefe8c83f1418179dac179\", element=\"0.0758185022803366-66\")>,\n",
       " <selenium.webdriver.remote.webelement.WebElement (session=\"0ac08282accefe8c83f1418179dac179\", element=\"0.0758185022803366-67\")>,\n",
       " <selenium.webdriver.remote.webelement.WebElement (session=\"0ac08282accefe8c83f1418179dac179\", element=\"0.0758185022803366-68\")>,\n",
       " <selenium.webdriver.remote.webelement.WebElement (session=\"0ac08282accefe8c83f1418179dac179\", element=\"0.0758185022803366-69\")>]"
      ]
     },
     "execution_count": 18,
     "metadata": {},
     "output_type": "execute_result"
    }
   ],
   "source": [
    "exp_tag=driver.find_elements_by_xpath(\"//li[@class='fleft grey-text br2 placeHolderLi experience']/span[1]\")\n",
    "exp_tag[0:9]"
   ]
  },
  {
   "cell_type": "code",
   "execution_count": 19,
   "metadata": {},
   "outputs": [
    {
     "data": {
      "text/plain": [
       "['1-3 Yrs',\n",
       " '4-8 Yrs',\n",
       " '4-9 Yrs',\n",
       " '2-6 Yrs',\n",
       " '0-0 Yrs',\n",
       " '5-6 Yrs',\n",
       " '1-3 Yrs',\n",
       " '3-8 Yrs',\n",
       " '4-9 Yrs']"
      ]
     },
     "execution_count": 19,
     "metadata": {},
     "output_type": "execute_result"
    }
   ],
   "source": [
    "for i in exp_tag:\n",
    "    experience_list.append(i.text)\n",
    "experience_list[0:9]"
   ]
  },
  {
   "cell_type": "code",
   "execution_count": 21,
   "metadata": {},
   "outputs": [],
   "source": [
    "import pandas as pd\n",
    "DataScientist=pd.DataFrame()\n",
    "DataScientist['JOB_NAME']=job_title[0:9]\n",
    "DataScientist['COMPANY']=company_names[0:9]\n",
    "DataScientist['JOB_LOCATION']=locations_list[0:9]\n",
    "DataScientist['EXPERIENCE']=experience_list[0:9]"
   ]
  },
  {
   "cell_type": "code",
   "execution_count": 22,
   "metadata": {},
   "outputs": [
    {
     "data": {
      "text/html": [
       "<div>\n",
       "<style scoped>\n",
       "    .dataframe tbody tr th:only-of-type {\n",
       "        vertical-align: middle;\n",
       "    }\n",
       "\n",
       "    .dataframe tbody tr th {\n",
       "        vertical-align: top;\n",
       "    }\n",
       "\n",
       "    .dataframe thead th {\n",
       "        text-align: right;\n",
       "    }\n",
       "</style>\n",
       "<table border=\"1\" class=\"dataframe\">\n",
       "  <thead>\n",
       "    <tr style=\"text-align: right;\">\n",
       "      <th></th>\n",
       "      <th>JOB_NAME</th>\n",
       "      <th>COMPANY</th>\n",
       "      <th>JOB_LOCATION</th>\n",
       "      <th>EXPERIENCE</th>\n",
       "    </tr>\n",
       "  </thead>\n",
       "  <tbody>\n",
       "    <tr>\n",
       "      <th>0</th>\n",
       "      <td>Data Scientist</td>\n",
       "      <td>Country Veggie</td>\n",
       "      <td>Ghaziabad, Bhopal, Lucknow, Kanpur, Rajkot, Be...</td>\n",
       "      <td>1-3 Yrs</td>\n",
       "    </tr>\n",
       "    <tr>\n",
       "      <th>1</th>\n",
       "      <td>Data Scientist</td>\n",
       "      <td>IBM India Pvt. Limited</td>\n",
       "      <td>Gurgaon Gurugram</td>\n",
       "      <td>4-8 Yrs</td>\n",
       "    </tr>\n",
       "    <tr>\n",
       "      <th>2</th>\n",
       "      <td>Senior Data Scientist - Computer Vision</td>\n",
       "      <td>IRIS SOFTWARE Inc</td>\n",
       "      <td>Delhi NCR</td>\n",
       "      <td>4-9 Yrs</td>\n",
       "    </tr>\n",
       "    <tr>\n",
       "      <th>3</th>\n",
       "      <td>Data Scientist - Machine Learning/ NLP</td>\n",
       "      <td>TalPro</td>\n",
       "      <td>Gurgaon Gurugram</td>\n",
       "      <td>2-6 Yrs</td>\n",
       "    </tr>\n",
       "    <tr>\n",
       "      <th>4</th>\n",
       "      <td>Only Fresher / Data Scientist / Data Analyst /...</td>\n",
       "      <td>GABA Consultancy services</td>\n",
       "      <td>Delhi NCR, Noida, Gurgaon</td>\n",
       "      <td>0-0 Yrs</td>\n",
       "    </tr>\n",
       "    <tr>\n",
       "      <th>5</th>\n",
       "      <td>Data Scientist</td>\n",
       "      <td>Ciena</td>\n",
       "      <td>Gurgaon Gurugram</td>\n",
       "      <td>5-6 Yrs</td>\n",
       "    </tr>\n",
       "    <tr>\n",
       "      <th>6</th>\n",
       "      <td>Data Scientist - Tableau/Power BI</td>\n",
       "      <td>Talent Stock Solutions</td>\n",
       "      <td>Delhi</td>\n",
       "      <td>1-3 Yrs</td>\n",
       "    </tr>\n",
       "    <tr>\n",
       "      <th>7</th>\n",
       "      <td>GCP Skilled Analytics Resources (Data engineer...</td>\n",
       "      <td>Aerial Telecom Solutions Pvt. Ltd.</td>\n",
       "      <td>Pune, Bengaluru, Gurgaon</td>\n",
       "      <td>3-8 Yrs</td>\n",
       "    </tr>\n",
       "    <tr>\n",
       "      <th>8</th>\n",
       "      <td>Data Scientist - IT</td>\n",
       "      <td>Ehireo</td>\n",
       "      <td>Gurgaon</td>\n",
       "      <td>4-9 Yrs</td>\n",
       "    </tr>\n",
       "  </tbody>\n",
       "</table>\n",
       "</div>"
      ],
      "text/plain": [
       "                                            JOB_NAME  \\\n",
       "0                                     Data Scientist   \n",
       "1                                     Data Scientist   \n",
       "2            Senior Data Scientist - Computer Vision   \n",
       "3             Data Scientist - Machine Learning/ NLP   \n",
       "4  Only Fresher / Data Scientist / Data Analyst /...   \n",
       "5                                     Data Scientist   \n",
       "6                  Data Scientist - Tableau/Power BI   \n",
       "7  GCP Skilled Analytics Resources (Data engineer...   \n",
       "8                                Data Scientist - IT   \n",
       "\n",
       "                              COMPANY  \\\n",
       "0                      Country Veggie   \n",
       "1              IBM India Pvt. Limited   \n",
       "2                   IRIS SOFTWARE Inc   \n",
       "3                              TalPro   \n",
       "4           GABA Consultancy services   \n",
       "5                               Ciena   \n",
       "6              Talent Stock Solutions   \n",
       "7  Aerial Telecom Solutions Pvt. Ltd.   \n",
       "8                              Ehireo   \n",
       "\n",
       "                                        JOB_LOCATION EXPERIENCE  \n",
       "0  Ghaziabad, Bhopal, Lucknow, Kanpur, Rajkot, Be...    1-3 Yrs  \n",
       "1                                   Gurgaon Gurugram    4-8 Yrs  \n",
       "2                                          Delhi NCR    4-9 Yrs  \n",
       "3                                   Gurgaon Gurugram    2-6 Yrs  \n",
       "4                          Delhi NCR, Noida, Gurgaon    0-0 Yrs  \n",
       "5                                   Gurgaon Gurugram    5-6 Yrs  \n",
       "6                                              Delhi    1-3 Yrs  \n",
       "7                           Pune, Bengaluru, Gurgaon    3-8 Yrs  \n",
       "8                                            Gurgaon    4-9 Yrs  "
      ]
     },
     "execution_count": 22,
     "metadata": {},
     "output_type": "execute_result"
    }
   ],
   "source": [
    "DataScientist"
   ]
  },
  {
   "cell_type": "code",
   "execution_count": null,
   "metadata": {},
   "outputs": [],
   "source": []
  }
 ],
 "metadata": {
  "kernelspec": {
   "display_name": "Python 3",
   "language": "python",
   "name": "python3"
  },
  "language_info": {
   "codemirror_mode": {
    "name": "ipython",
    "version": 3
   },
   "file_extension": ".py",
   "mimetype": "text/x-python",
   "name": "python",
   "nbconvert_exporter": "python",
   "pygments_lexer": "ipython3",
   "version": "3.7.6"
  }
 },
 "nbformat": 4,
 "nbformat_minor": 4
}
