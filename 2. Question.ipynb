{
 "cells": [
  {
   "cell_type": "code",
   "execution_count": 111,
   "metadata": {},
   "outputs": [],
   "source": [
    "import selenium\n",
    "import pandas as pd\n",
    "from selenium import webdriver"
   ]
  },
  {
   "cell_type": "code",
   "execution_count": 112,
   "metadata": {},
   "outputs": [],
   "source": [
    "driver=webdriver.Chrome(\"chromedriver.exe\")"
   ]
  },
  {
   "cell_type": "code",
   "execution_count": 113,
   "metadata": {},
   "outputs": [],
   "source": [
    "driver.get(\"https://www.naukri.com/\")"
   ]
  },
  {
   "cell_type": "code",
   "execution_count": 114,
   "metadata": {},
   "outputs": [],
   "source": [
    "search_job=driver.find_element_by_id('qsb-keyword-sugg')\n",
    "search_job.send_keys(\"Data Scientist\")\n",
    "search_loc=driver.find_element_by_xpath(\"//input[@id='qsb-location-sugg']\")\n",
    "search_loc.send_keys(\"Bangalore\")"
   ]
  },
  {
   "cell_type": "code",
   "execution_count": 115,
   "metadata": {},
   "outputs": [],
   "source": [
    "search_btn=driver.find_element_by_xpath(\"//div[@class='search-btn']/button\")\n",
    "search_btn.click()"
   ]
  },
  {
   "cell_type": "code",
   "execution_count": 116,
   "metadata": {},
   "outputs": [],
   "source": [
    "url=\"https://www.naukri.com/data-scientist-jobs-in-bangalore?k=data%20scientist&l=bangalore\""
   ]
  },
  {
   "cell_type": "code",
   "execution_count": 117,
   "metadata": {},
   "outputs": [],
   "source": [
    "driver.get(url)"
   ]
  },
  {
   "cell_type": "code",
   "execution_count": 118,
   "metadata": {},
   "outputs": [],
   "source": [
    "job_title=[]\n",
    "company_names=[]\n",
    "locations_list=[]\n",
    "desc_list=[]"
   ]
  },
  {
   "cell_type": "code",
   "execution_count": 119,
   "metadata": {},
   "outputs": [
    {
     "data": {
      "text/plain": [
       "[<selenium.webdriver.remote.webelement.WebElement (session=\"8ee99f0e5dc7edb8557a95ada91c21aa\", element=\"0.08605132375541946-1\")>,\n",
       " <selenium.webdriver.remote.webelement.WebElement (session=\"8ee99f0e5dc7edb8557a95ada91c21aa\", element=\"0.08605132375541946-2\")>,\n",
       " <selenium.webdriver.remote.webelement.WebElement (session=\"8ee99f0e5dc7edb8557a95ada91c21aa\", element=\"0.08605132375541946-3\")>,\n",
       " <selenium.webdriver.remote.webelement.WebElement (session=\"8ee99f0e5dc7edb8557a95ada91c21aa\", element=\"0.08605132375541946-4\")>,\n",
       " <selenium.webdriver.remote.webelement.WebElement (session=\"8ee99f0e5dc7edb8557a95ada91c21aa\", element=\"0.08605132375541946-5\")>,\n",
       " <selenium.webdriver.remote.webelement.WebElement (session=\"8ee99f0e5dc7edb8557a95ada91c21aa\", element=\"0.08605132375541946-6\")>,\n",
       " <selenium.webdriver.remote.webelement.WebElement (session=\"8ee99f0e5dc7edb8557a95ada91c21aa\", element=\"0.08605132375541946-7\")>,\n",
       " <selenium.webdriver.remote.webelement.WebElement (session=\"8ee99f0e5dc7edb8557a95ada91c21aa\", element=\"0.08605132375541946-8\")>,\n",
       " <selenium.webdriver.remote.webelement.WebElement (session=\"8ee99f0e5dc7edb8557a95ada91c21aa\", element=\"0.08605132375541946-9\")>]"
      ]
     },
     "execution_count": 119,
     "metadata": {},
     "output_type": "execute_result"
    }
   ],
   "source": [
    "titles_tag=driver.find_elements_by_xpath(\"//a[@class='title fw500 ellipsis']\")\n",
    "titles_tag[0:9]"
   ]
  },
  {
   "cell_type": "code",
   "execution_count": 120,
   "metadata": {},
   "outputs": [
    {
     "data": {
      "text/plain": [
       "['Data Scientist - Python/ MATLAB/ Machine Learning Algorithms',\n",
       " 'Lead Data Scientist - Machine Learning/ Data Mining',\n",
       " 'Data Scientist - Machine Learning (Commerce BU)',\n",
       " 'Principal Data Scientist - Machine/Deep Learning - NLP/Tensorflow',\n",
       " 'Data Scientist',\n",
       " 'Opening For Sr. Data Scientist @ Tech Mahindra',\n",
       " 'Opening For Sr. Data Scientist @ Tech Mahindra',\n",
       " 'Senior / Lead Data Scientist',\n",
       " 'Senior Data Scientist - NLP/ Python/ R']"
      ]
     },
     "execution_count": 120,
     "metadata": {},
     "output_type": "execute_result"
    }
   ],
   "source": [
    "for i in titles_tag:\n",
    "    job_title.append(i.text)\n",
    "job_title[0:9]"
   ]
  },
  {
   "cell_type": "code",
   "execution_count": 121,
   "metadata": {},
   "outputs": [
    {
     "data": {
      "text/plain": [
       "[<selenium.webdriver.remote.webelement.WebElement (session=\"8ee99f0e5dc7edb8557a95ada91c21aa\", element=\"0.08605132375541946-21\")>,\n",
       " <selenium.webdriver.remote.webelement.WebElement (session=\"8ee99f0e5dc7edb8557a95ada91c21aa\", element=\"0.08605132375541946-22\")>,\n",
       " <selenium.webdriver.remote.webelement.WebElement (session=\"8ee99f0e5dc7edb8557a95ada91c21aa\", element=\"0.08605132375541946-23\")>,\n",
       " <selenium.webdriver.remote.webelement.WebElement (session=\"8ee99f0e5dc7edb8557a95ada91c21aa\", element=\"0.08605132375541946-24\")>,\n",
       " <selenium.webdriver.remote.webelement.WebElement (session=\"8ee99f0e5dc7edb8557a95ada91c21aa\", element=\"0.08605132375541946-25\")>,\n",
       " <selenium.webdriver.remote.webelement.WebElement (session=\"8ee99f0e5dc7edb8557a95ada91c21aa\", element=\"0.08605132375541946-26\")>,\n",
       " <selenium.webdriver.remote.webelement.WebElement (session=\"8ee99f0e5dc7edb8557a95ada91c21aa\", element=\"0.08605132375541946-27\")>,\n",
       " <selenium.webdriver.remote.webelement.WebElement (session=\"8ee99f0e5dc7edb8557a95ada91c21aa\", element=\"0.08605132375541946-28\")>,\n",
       " <selenium.webdriver.remote.webelement.WebElement (session=\"8ee99f0e5dc7edb8557a95ada91c21aa\", element=\"0.08605132375541946-29\")>]"
      ]
     },
     "execution_count": 121,
     "metadata": {},
     "output_type": "execute_result"
    }
   ],
   "source": [
    "company_tag=driver.find_elements_by_xpath(\"//a[@class='subTitle ellipsis fleft']\")\n",
    "company_tag[0:9]"
   ]
  },
  {
   "cell_type": "code",
   "execution_count": 122,
   "metadata": {},
   "outputs": [
    {
     "data": {
      "text/plain": [
       "['Wrackle Technologies Pvt Ltd',\n",
       " 'Wrackle Technologies Pvt Ltd',\n",
       " 'BLUE YONDER INDIA PRIVATE LIMITED',\n",
       " 'Fidius advisory',\n",
       " 'Atos Syntel Private Limited',\n",
       " 'Tech Mahindra Ltd.',\n",
       " 'Tech Mahindra Ltd.',\n",
       " 'TVS CREDIT SERVICES LIMITED',\n",
       " 'AVI Consulting LLP']"
      ]
     },
     "execution_count": 122,
     "metadata": {},
     "output_type": "execute_result"
    }
   ],
   "source": [
    "for i in company_tag:\n",
    "    company_names.append(i.text)\n",
    "company_names[0:9]"
   ]
  },
  {
   "cell_type": "code",
   "execution_count": 87,
   "metadata": {},
   "outputs": [
    {
     "data": {
      "text/plain": [
       "[<selenium.webdriver.remote.webelement.WebElement (session=\"8dfb3608fd72eae15888a7de8bbba3c6\", element=\"0.28142087163154583-41\")>,\n",
       " <selenium.webdriver.remote.webelement.WebElement (session=\"8dfb3608fd72eae15888a7de8bbba3c6\", element=\"0.28142087163154583-42\")>,\n",
       " <selenium.webdriver.remote.webelement.WebElement (session=\"8dfb3608fd72eae15888a7de8bbba3c6\", element=\"0.28142087163154583-43\")>,\n",
       " <selenium.webdriver.remote.webelement.WebElement (session=\"8dfb3608fd72eae15888a7de8bbba3c6\", element=\"0.28142087163154583-44\")>,\n",
       " <selenium.webdriver.remote.webelement.WebElement (session=\"8dfb3608fd72eae15888a7de8bbba3c6\", element=\"0.28142087163154583-45\")>,\n",
       " <selenium.webdriver.remote.webelement.WebElement (session=\"8dfb3608fd72eae15888a7de8bbba3c6\", element=\"0.28142087163154583-46\")>,\n",
       " <selenium.webdriver.remote.webelement.WebElement (session=\"8dfb3608fd72eae15888a7de8bbba3c6\", element=\"0.28142087163154583-47\")>,\n",
       " <selenium.webdriver.remote.webelement.WebElement (session=\"8dfb3608fd72eae15888a7de8bbba3c6\", element=\"0.28142087163154583-48\")>,\n",
       " <selenium.webdriver.remote.webelement.WebElement (session=\"8dfb3608fd72eae15888a7de8bbba3c6\", element=\"0.28142087163154583-49\")>]"
      ]
     },
     "execution_count": 87,
     "metadata": {},
     "output_type": "execute_result"
    }
   ],
   "source": [
    "loc_tag=driver.find_elements_by_xpath(\"//li[@class='fleft grey-text br2 placeHolderLi location']/span[1]\")\n",
    "loc_tag[0:9]"
   ]
  },
  {
   "cell_type": "code",
   "execution_count": 88,
   "metadata": {
    "scrolled": true
   },
   "outputs": [
    {
     "data": {
      "text/plain": [
       "['Bengaluru',\n",
       " 'Bengaluru',\n",
       " 'Bengaluru',\n",
       " 'Bengaluru',\n",
       " 'Chennai, Pune, Mumbai, Bengaluru',\n",
       " 'Pune, Bengaluru',\n",
       " 'Pune, Bengaluru',\n",
       " 'Chennai, Pune, Bengaluru',\n",
       " 'Bengaluru, Hyderabad']"
      ]
     },
     "execution_count": 88,
     "metadata": {},
     "output_type": "execute_result"
    }
   ],
   "source": [
    "for i in loc_tag:\n",
    "    locations_list.append(i.text)\n",
    "locations_list[0:9]"
   ]
  },
  {
   "cell_type": "code",
   "execution_count": 89,
   "metadata": {},
   "outputs": [
    {
     "data": {
      "text/plain": [
       "[<selenium.webdriver.remote.webelement.WebElement (session=\"8dfb3608fd72eae15888a7de8bbba3c6\", element=\"0.28142087163154583-61\")>,\n",
       " <selenium.webdriver.remote.webelement.WebElement (session=\"8dfb3608fd72eae15888a7de8bbba3c6\", element=\"0.28142087163154583-62\")>,\n",
       " <selenium.webdriver.remote.webelement.WebElement (session=\"8dfb3608fd72eae15888a7de8bbba3c6\", element=\"0.28142087163154583-63\")>,\n",
       " <selenium.webdriver.remote.webelement.WebElement (session=\"8dfb3608fd72eae15888a7de8bbba3c6\", element=\"0.28142087163154583-64\")>,\n",
       " <selenium.webdriver.remote.webelement.WebElement (session=\"8dfb3608fd72eae15888a7de8bbba3c6\", element=\"0.28142087163154583-65\")>,\n",
       " <selenium.webdriver.remote.webelement.WebElement (session=\"8dfb3608fd72eae15888a7de8bbba3c6\", element=\"0.28142087163154583-66\")>,\n",
       " <selenium.webdriver.remote.webelement.WebElement (session=\"8dfb3608fd72eae15888a7de8bbba3c6\", element=\"0.28142087163154583-67\")>,\n",
       " <selenium.webdriver.remote.webelement.WebElement (session=\"8dfb3608fd72eae15888a7de8bbba3c6\", element=\"0.28142087163154583-68\")>,\n",
       " <selenium.webdriver.remote.webelement.WebElement (session=\"8dfb3608fd72eae15888a7de8bbba3c6\", element=\"0.28142087163154583-69\")>]"
      ]
     },
     "execution_count": 89,
     "metadata": {},
     "output_type": "execute_result"
    }
   ],
   "source": [
    "desc_tag=driver.find_elements_by_xpath(\"//div[@class='job-description fs12 grey-text']\")\n",
    "desc_tag[0:9]"
   ]
  },
  {
   "cell_type": "code",
   "execution_count": null,
   "metadata": {},
   "outputs": [],
   "source": [
    "for i in desc_tag:\n",
    "    desc_list.append(i.text)\n",
    "desc_list[0:9]"
   ]
  },
  {
   "cell_type": "code",
   "execution_count": null,
   "metadata": {},
   "outputs": [],
   "source": [
    "import pandas as pd\n",
    "DataScientist=pd.DataFrame()\n",
    "DataScientist['JOB_NAME']=job_title[0:9]\n",
    "DataScientist['COMPANY']=company_names[0:9]\n",
    "DataScientist['JOB_LOCATION']=locations_list[0:9]\n",
    "DataScientist['DESCRIPTION']=desc_list[0:9]"
   ]
  },
  {
   "cell_type": "code",
   "execution_count": null,
   "metadata": {},
   "outputs": [],
   "source": [
    "DataScientist"
   ]
  },
  {
   "cell_type": "code",
   "execution_count": null,
   "metadata": {},
   "outputs": [],
   "source": [
    "search_btn=driver.find_element_by_xpath(\"//div[@class='search-btn']/button\")\n",
    "search_btn.click()\n",
    "url=\"https://www.naukri.com/job-listings-data-scientist-python-matlab-machine-learning-algorithms-wrackle-technologies-pvt-ltd-bengaluru-bangalore-3-to-8-years-080221905947?src=jobsearchDesk&sid=16131335904976726&xp=1&px=1\"\n",
    "driver.get(url)"
   ]
  }
 ],
 "metadata": {
  "kernelspec": {
   "display_name": "Python 3",
   "language": "python",
   "name": "python3"
  },
  "language_info": {
   "codemirror_mode": {
    "name": "ipython",
    "version": 3
   },
   "file_extension": ".py",
   "mimetype": "text/x-python",
   "name": "python",
   "nbconvert_exporter": "python",
   "pygments_lexer": "ipython3",
   "version": "3.7.6"
  }
 },
 "nbformat": 4,
 "nbformat_minor": 4
}
